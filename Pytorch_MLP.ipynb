{
  "nbformat": 4,
  "nbformat_minor": 0,
  "metadata": {
    "colab": {
      "provenance": [],
      "gpuType": "T4",
      "authorship_tag": "ABX9TyMwA9Gwvhaq3PIhYndlc0cE",
      "include_colab_link": true
    },
    "kernelspec": {
      "name": "python3",
      "display_name": "Python 3"
    },
    "language_info": {
      "name": "python"
    },
    "accelerator": "GPU"
  },
  "cells": [
    {
      "cell_type": "markdown",
      "metadata": {
        "id": "view-in-github",
        "colab_type": "text"
      },
      "source": [
        "<a href=\"https://colab.research.google.com/github/Amal-Baby-Mathews/Pytorch_abm/blob/main/Pytorch_MLP.ipynb\" target=\"_parent\"><img src=\"https://colab.research.google.com/assets/colab-badge.svg\" alt=\"Open In Colab\"/></a>"
      ]
    },
    {
      "cell_type": "code",
      "execution_count": 3,
      "metadata": {
        "id": "nny6JfXEJsW2"
      },
      "outputs": [],
      "source": [
        "# 🧠 STEP 1: Imports\n",
        "import torch\n",
        "import torch.nn as nn\n",
        "import torch.optim as optim\n",
        "from torchvision import datasets, transforms\n",
        "from torch.utils.data import DataLoader\n",
        "import matplotlib.pyplot as plt\n",
        "\n",
        "# ✅ Use GPU if available\n",
        "device = torch.device(\"cuda\" if torch.cuda.is_available() else \"cpu\")\n"
      ]
    },
    {
      "cell_type": "code",
      "source": [
        "# 🧠 STEP 2: Load MNIST with transforms (ToTensor + Normalize)\n",
        "transform = transforms.Compose([\n",
        "    transforms.ToTensor(),               # PIL → Tensor\n",
        "    transforms.Normalize((0.5,), (0.5,)) # Pixel range: [-1, 1]\n",
        "])\n",
        "\n",
        "train_data = datasets.MNIST(root=\"./data\", train=True, download=True, transform=transform)\n",
        "train_loader = DataLoader(train_data, batch_size=64, shuffle=True, num_workers=2)\n"
      ],
      "metadata": {
        "colab": {
          "base_uri": "https://localhost:8080/"
        },
        "id": "MDjZ2Cl3JwXi",
        "outputId": "8ba79b0c-118b-4922-de12-8cf1ef71e81a"
      },
      "execution_count": 4,
      "outputs": [
        {
          "output_type": "stream",
          "name": "stderr",
          "text": [
            "100%|██████████| 9.91M/9.91M [00:14<00:00, 694kB/s] \n",
            "100%|██████████| 28.9k/28.9k [00:00<00:00, 57.0kB/s]\n",
            "100%|██████████| 1.65M/1.65M [00:11<00:00, 145kB/s]\n",
            "100%|██████████| 4.54k/4.54k [00:00<00:00, 5.73MB/s]\n"
          ]
        }
      ]
    },
    {
      "cell_type": "code",
      "source": [
        "# 🧠 STEP 3: Define a simple MLP using nn.Module\n",
        "class MLP(nn.Module):\n",
        "    def __init__(self):\n",
        "        super().__init__()\n",
        "        self.model = nn.Sequential(\n",
        "            nn.Flatten(),              # 28x28 → 784\n",
        "            nn.Linear(784, 256),       # Input → Hidden\n",
        "            nn.ReLU(),                 # Activation\n",
        "            nn.Linear(256, 10)         # Hidden → Output (10 classes)\n",
        "        )\n",
        "\n",
        "    def forward(self, x):\n",
        "        return self.model(x)\n",
        "\n",
        "model = MLP().to(device)\n"
      ],
      "metadata": {
        "id": "-8p9xb9aJyPR"
      },
      "execution_count": 5,
      "outputs": []
    },
    {
      "cell_type": "code",
      "source": [
        "# 🧠 STEP 4: Define loss and optimizer\n",
        "criterion = nn.CrossEntropyLoss()               # For multi-class classification\n",
        "optimizer = optim.Adam(model.parameters(), lr=0.001)  # Adaptive optimizer\n"
      ],
      "metadata": {
        "id": "l7_qdefYJzvS"
      },
      "execution_count": 6,
      "outputs": []
    },
    {
      "cell_type": "code",
      "source": [
        "# 🧠 STEP 5: Training loop (one epoch for now)\n",
        "epochs = 5\n",
        "losses = []\n",
        "\n",
        "for epoch in range(epochs):\n",
        "    total_loss = 0\n",
        "\n",
        "    for batch_idx, (inputs, labels) in enumerate(train_loader):\n",
        "        inputs, labels = inputs.to(device), labels.to(device)\n",
        "\n",
        "        # 🧹 1. Zero the gradients\n",
        "        optimizer.zero_grad()\n",
        "\n",
        "        # 🔁 2. Forward pass\n",
        "        outputs = model(inputs)\n",
        "\n",
        "        # 📉 3. Calculate loss\n",
        "        loss = criterion(outputs, labels)\n",
        "\n",
        "        # 🔙 4. Backward pass (calculate gradients)\n",
        "        loss.backward()\n",
        "\n",
        "        # ⬆️ 5. Update weights\n",
        "        optimizer.step()\n",
        "\n",
        "        total_loss += loss.item()\n",
        "\n",
        "    avg_loss = total_loss / len(train_loader)\n",
        "    losses.append(avg_loss)\n",
        "    print(f\"Epoch {epoch+1}/{epochs} | Loss: {avg_loss:.4f}\")\n"
      ],
      "metadata": {
        "id": "dt-Mu3q7J1Qi"
      },
      "execution_count": null,
      "outputs": []
    },
    {
      "cell_type": "code",
      "source": [
        "# 🧠 STEP 6: Plot training loss\n",
        "plt.plot(losses, label=\"Training Loss\")\n",
        "plt.xlabel(\"Epoch\")\n",
        "plt.ylabel(\"Loss\")\n",
        "plt.title(\"MLP on MNIST – Training Loss\")\n",
        "plt.legend()\n",
        "plt.grid(True)\n",
        "plt.show()\n"
      ],
      "metadata": {
        "id": "CeyfHqLLJ3QZ"
      },
      "execution_count": null,
      "outputs": []
    }
  ]
}